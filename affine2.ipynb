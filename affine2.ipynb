{
 "cells": [
  {
   "cell_type": "code",
   "execution_count": 1,
   "metadata": {},
   "outputs": [],
   "source": [
    "import SimpleITK as sitk\n",
    "import numpy as np\n",
    "\n",
    "def multires_registration(fixed_image, moving_image, initial_transform):    \n",
    "    registration_method = sitk.ImageRegistrationMethod()\n",
    "    #registration_method.SetInterpolator(sitk.sitkLinear)\n",
    "    registration_method.SetInterpolator(sitk.sitkBSpline)\n",
    "    registration_method.SetMetricAsMattesMutualInformation(numberOfHistogramBins=50)\n",
    "    #registration_method.SetMetricAsMeanSquares()\n",
    "    registration_method.SetMetricSamplingStrategy(registration_method.RANDOM)\n",
    "    registration_method.SetMetricSamplingPercentage(0.01)\n",
    "    registration_method.SetOptimizerAsGradientDescent(learningRate=1.0, numberOfIterations=1000, convergenceMinimumValue=1e-6, convergenceWindowSize=200) # Reduce convergeMinimumValue=1e-6\n",
    "    #increase convergenceWindowsize=10. http://insightsoftwareconsortium.github.io/SimpleITK-Notebooks/Python_html/60_Registration_Introduction.html \n",
    "    registration_method.SetOptimizerScalesFromPhysicalShift() \n",
    "    registration_method.SetInitialTransform(initial_transform, inPlace=True)\n",
    "    registration_method.SetShrinkFactorsPerLevel(shrinkFactors = [4,2,1])\n",
    "    registration_method.SetSmoothingSigmasPerLevel(smoothingSigmas = [2,1,0])\n",
    "    registration_method.SmoothingSigmasAreSpecifiedInPhysicalUnitsOn()\n",
    "\n",
    "    registration_method.Execute(fixed_image, moving_image)\n",
    "\n",
    "    print('Final metric value: {0}'.format(registration_method.GetMetricValue()))\n",
    "    print('Optimizer\\'s stopping condition, {0}'.format(registration_method.GetOptimizerStopConditionDescription()))"
   ]
  },
  {
   "cell_type": "code",
   "execution_count": 2,
   "metadata": {},
   "outputs": [],
   "source": [
    "def resample_img(itk_image, is_label=False):\n",
    "\n",
    "    # Resample images to 2mm spacing with SimpleITK\n",
    "    original_spacing = itk_image.GetSpacing()\n",
    "    original_size = itk_image.GetSize()\n",
    "\n",
    "    out_size = [512,512]\n",
    "\n",
    "    out_spacing=[original_size[0] * (original_spacing[0] / out_size[0]), original_size[1] * (original_spacing[1] / out_size[1])]\n",
    "\n",
    "    resample = sitk.ResampleImageFilter()\n",
    "    resample.SetOutputSpacing(out_spacing)\n",
    "    resample.SetSize(out_size)\n",
    "    resample.SetOutputDirection(itk_image.GetDirection())\n",
    "    resample.SetOutputOrigin(itk_image.GetOrigin())\n",
    "    resample.SetTransform(sitk.Transform())\n",
    "    resample.SetDefaultPixelValue(itk_image.GetPixelIDValue())\n",
    "\n",
    "    if is_label:\n",
    "        resample.SetInterpolator(sitk.sitkNearestNeighbor)\n",
    "    else:\n",
    "        resample.SetInterpolator(sitk.sitkBSpline)\n",
    "\n",
    "    return resample.Execute(itk_image)"
   ]
  },
  {
   "cell_type": "code",
   "execution_count": 3,
   "metadata": {},
   "outputs": [
    {
     "name": "stdout",
     "output_type": "stream",
     "text": [
      "Final metric value: -2.095733561676304\n",
      "Optimizer's stopping condition, GradientDescentOptimizerv4Template: Convergence checker passed at iteration 199.\n"
     ]
    }
   ],
   "source": [
    "# Read the images\n",
    "fixed_image = sitk.ReadImage('piramide2.dcm', sitk.sitkFloat32)[:,:,0]\n",
    "moving_image_or = sitk.ReadImage('MapaPiramide_final.dcm', sitk.sitkFloat32)[:,:,0]\n",
    "#moving_image = sitk.ReadImage('piramide.dcm', sitk.sitkFloat32)[:,:,0]\n",
    "moving_image = resample_img(moving_image_or, is_label=False)\n",
    "\n",
    "# Display the original images and resamples moving_image (onto the\n",
    "# fixed_image grid using the identity transformation)\n",
    "\n",
    "#sitk.Show(sitk.Resample(moving_image, fixed_image, sitk.Transform()), 'identity transform')\n",
    "\n",
    "# Centered 2D affine transform and show the resampled moving_image using this transform.\n",
    "registration_transform = sitk.CenteredTransformInitializer(fixed_image, \n",
    "                                                      moving_image, \n",
    "                                                      sitk.AffineTransform(2), \n",
    "                                                      sitk.CenteredTransformInitializerFilter.GEOMETRY)\n",
    "#sitk.Show(sitk.Resample(moving_image, fixed_image, registration_transform), 'initial affine transform')\n",
    "\n",
    "\n",
    "# Register using 2D affine initial transform that is overwritten\n",
    "# and show the resampled moving_image using this transform.\n",
    "multires_registration(fixed_image, moving_image, registration_transform)\n",
    "\n",
    "registered_image = sitk.Resample(moving_image, fixed_image, registration_transform)"
   ]
  },
  {
   "cell_type": "code",
   "execution_count": 4,
   "metadata": {},
   "outputs": [],
   "source": [
    "sitk.Show(fixed_image, 'fixed')\n",
    "sitk.Show(moving_image, 'moving')\n",
    "\n",
    "sitk.Show(sitk.Resample(moving_image, fixed_image, registration_transform), 'final affine transform')\n"
   ]
  },
  {
   "cell_type": "code",
   "execution_count": 5,
   "metadata": {},
   "outputs": [],
   "source": [
    "import matplotlib.pyplot as plt\n",
    "\n",
    "# http://insightsoftwareconsortium.github.io/SimpleITK-Notebooks/Python_html/05_Results_Visualization.html\n",
    "zeros = sitk.Image(fixed_image.GetSize(), fixed_image.GetPixelID())\n",
    "zeros.CopyInformation(fixed_image)\n",
    "\n",
    "#sitk.Cast(sitk.Compose(fixed_image, moving_image, zeros), sitk.sitkVectorUInt8)\n",
    "#sitk.Cast(sitk.Compose(fixed_image, moving_image, fixed_image), sitk.sitkVectorUInt8)\n",
    "#sitk.Cast(sitk.Compose(fixed_image, 0.5*fixed_image+0.5*moving_image, moving_image), sitk.sitkVectorUInt8)]\n",
    "\n",
    "\n",
    "\n",
    "fixed_matrix, registered_matrix, moving_matrix = sitk.GetArrayFromImage(fixed_image), sitk.GetArrayFromImage(registered_image), sitk.GetArrayFromImage(moving_image_or)\n",
    "max_fixed, min_fixed = int(np.amax(fixed_matrix)), int(np.amin(fixed_matrix))\n",
    "max_moving, min_moving = int(np.amax(moving_matrix)), int(np.amin(moving_matrix))\n",
    "max_registered, min_registered = int(np.amax(registered_matrix)), int(np.amin(registered_matrix))\n",
    "\n",
    "\n",
    "\n",
    "img1_255 = sitk.Cast(sitk.IntensityWindowing(fixed_image, windowMinimum=min_fixed, windowMaximum=max_fixed, outputMinimum=0.0, outputMaximum=255.0), sitk.sitkUInt8)\n",
    "img2_255 = sitk.Cast(sitk.IntensityWindowing(registered_image, windowMinimum=min_registered, windowMaximum=max_registered, outputMinimum=0.0, outputMaximum=255.0), sitk.sitkUInt8)\n",
    "img3_255 = sitk.Cast(sitk.IntensityWindowing(sitk.Resample(moving_image, fixed_image, sitk.Transform()), windowMinimum=min_moving, windowMaximum=max_moving, outputMinimum=0.0, outputMaximum=255.0), sitk.sitkUInt8)\n",
    "\n",
    "#sitk.Show(sitk.Cast(sitk.Compose(fixed_image, 0.5*fixed_image+0.5*registered_image, registered_image), sitk.sitkVectorUInt8), \"fixed and moved\")\n",
    "#sitk.Show(sitk.Cast(sitk.Compose(fixed_image, 0.5*fixed_image+0.5*moving_image, moving_image), sitk.sitkVectorUInt8), \"fixed and registered\")"
   ]
  },
  {
   "cell_type": "code",
   "execution_count": 18,
   "metadata": {},
   "outputs": [
    {
     "data": {
      "image/png": "[encoded data removed]",
      "text/plain": [
       "<Figure size 432x288 with 1 Axes>"
      ]
     },
     "metadata": {
      "needs_background": "light"
     },
     "output_type": "display_data"
    }
   ],
   "source": [
    "fixed_m = sitk.GetArrayFromImage(img1_255)\n",
    "registered_m = sitk.GetArrayFromImage(img2_255)\n",
    "\n",
    "\n",
    "plt.plot(  fixed_m[int(np.shape(fixed_m)[0]/2),:], label=\"fixed\"    )\n",
    "plt.plot(  registered_m[int(np.shape(registered_m)[0]/2),:], label=\"registered\"  )\n",
    "plt.legend()\n",
    "plt.show()"
   ]
  },
  {
   "cell_type": "code",
   "execution_count": 6,
   "metadata": {},
   "outputs": [],
   "source": [
    "sitk.Show(sitk.Cast(sitk.Compose(img1_255, 0.5*img1_255+0.5*img2_255, img2_255), sitk.sitkVectorUInt8), \"fixed and registered\")\n",
    "sitk.Show(sitk.Cast(sitk.Compose(img1_255, 0.5*img1_255+0.5*img3_255, img3_255), sitk.sitkVectorUInt8), \"fixed and moved\")"
   ]
  },
  {
   "cell_type": "code",
   "execution_count": 7,
   "metadata": {},
   "outputs": [],
   "source": [
    "sitk.Show(sitk.CheckerBoard(img1_255, img2_255, [30,30,4]))"
   ]
  },
  {
   "cell_type": "code",
   "execution_count": 8,
   "metadata": {},
   "outputs": [
    {
     "name": "stdout",
     "output_type": "stream",
     "text": [
      "Calcing using global normalisation point for gamma\n",
      "Global normalisation set to 255 Gy\n",
      "Global dose threshold set to [7.65] Gy ([3]%)\n",
      "Distance threshold set to [3] mm\n",
      "Lower dose cutoff set to 51.0 Gy (20%)\n",
      "\n",
      "Current distance: 4.60 mm | Number of reference points remaining: 3 | Points tested per reference point: 146 | RAM split count: 11111 | Points tested per reference point: 108 | RAM split count: 1 | Points tested per reference point: 127 | RAM split count: 1\n",
      "Complete!\n"
     ]
    }
   ],
   "source": [
    "import pymedphys\n",
    "\n",
    "fixed = sitk.GetArrayFromImage(img1_255)\n",
    "registered = sitk.GetArrayFromImage(img2_255)\n",
    "\n",
    "\n",
    "x= np.linspace(0,fixed.shape[0],fixed.shape[0])\n",
    "y = np.linspace(0,fixed.shape[1],fixed.shape[1])\n",
    "\n",
    "coords = (y, x)\n",
    "\n",
    "gamma_options = {\n",
    "    'dose_percent_threshold': 3,\n",
    "    'distance_mm_threshold': 3,\n",
    "    'lower_percent_dose_cutoff': 20,\n",
    "    'interp_fraction': 15,  # Should be 10 or more for more accurate results\n",
    "    'max_gamma': 3,\n",
    "    'random_subset': None,\n",
    "    'local_gamma': False\n",
    "}\n",
    "\n",
    "\n",
    "gamma = pymedphys.gamma(\n",
    "    coords, fixed,\n",
    "    coords, registered,\n",
    "    **gamma_options)\n",
    "valid_gamma = gamma[~np.isnan(gamma)]\n",
    "\n",
    "# ---------------------------------------------------------------------\n",
    "# Passing rate determined here\n",
    "# ---------------------------------------------------------------------\n",
    "\n",
    "passing = 100 * np.sum(valid_gamma <= 1) / len(valid_gamma)\n",
    "\n",
    "# ---------------------------------------------------------------------"
   ]
  },
  {
   "cell_type": "code",
   "execution_count": 12,
   "metadata": {},
   "outputs": [
    {
     "data": {
      "image/png": "[encoded data removed]",
      "text/plain": [
       "<Figure size 432x288 with 1 Axes>"
      ]
     },
     "metadata": {
      "needs_background": "light"
     },
     "output_type": "display_data"
    }
   ],
   "source": [
    "plt.figure()\n",
    "plt.title(f'Gamma Histogram | Passing rate = {passing:.2f}%')\n",
    "plt.xlabel('Gamma')\n",
    "plt.ylabel('Number of pixels')\n",
    "\n",
    "plt.hist(valid_gamma, 15)\n",
    "plt.show()"
   ]
  },
  {
   "cell_type": "code",
   "execution_count": null,
   "metadata": {},
   "outputs": [],
   "source": []
  }
 ],
 "metadata": {
  "interpreter": {
   "hash": "20b0d1a0be532019c1440fe926150ea591c90996bb235b46f01ca084dec64811"
  },
  "kernelspec": {
   "display_name": "Python 3.8.8 ('base')",
   "language": "python",
   "name": "python3"
  },
  "language_info": {
   "codemirror_mode": {
    "name": "ipython",
    "version": 3
   },
   "file_extension": ".py",
   "mimetype": "text/x-python",
   "name": "python",
   "nbconvert_exporter": "python",
   "pygments_lexer": "ipython3",
   "version": "3.8.8"
  },
  "orig_nbformat": 4
 },
 "nbformat": 4,
 "nbformat_minor": 2
}
