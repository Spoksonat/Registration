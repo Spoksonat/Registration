{
 "cells": [
  {
   "cell_type": "code",
   "execution_count": 43,
   "metadata": {},
   "outputs": [],
   "source": [
    "import SimpleITK as sitk\n",
    "\n",
    "def multires_registration(fixed_image, moving_image, initial_transform):    \n",
    "    registration_method = sitk.ImageRegistrationMethod()\n",
    "    #registration_method.SetInterpolator(sitk.sitkLinear)\n",
    "    registration_method.SetInterpolator(sitk.sitkBSpline)\n",
    "    #registration_method.SetMetricAsMattesMutualInformation(numberOfHistogramBins=50)\n",
    "    registration_method.SetMetricAsMeanSquares()\n",
    "    registration_method.SetMetricSamplingStrategy(registration_method.RANDOM)\n",
    "    registration_method.SetMetricSamplingPercentage(0.01)\n",
    "    registration_method.SetOptimizerAsGradientDescent(learningRate=1.0, numberOfIterations=100, convergenceMinimumValue=1e-6, convergenceWindowSize=55) # Reduce convergeMinimumValue=1e-6\n",
    "    #increase convergenceWindowsize=10. http://insightsoftwareconsortium.github.io/SimpleITK-Notebooks/Python_html/60_Registration_Introduction.html \n",
    "    registration_method.SetOptimizerScalesFromPhysicalShift() \n",
    "    registration_method.SetInitialTransform(initial_transform, inPlace=True)\n",
    "    registration_method.SetShrinkFactorsPerLevel(shrinkFactors = [4,2,1])\n",
    "    registration_method.SetSmoothingSigmasPerLevel(smoothingSigmas = [2,1,0])\n",
    "    registration_method.SmoothingSigmasAreSpecifiedInPhysicalUnitsOn()\n",
    "\n",
    "    registration_method.Execute(fixed_image, moving_image)\n",
    "\n",
    "    print('Final metric value: {0}'.format(registration_method.GetMetricValue()))\n",
    "    print('Optimizer\\'s stopping condition, {0}'.format(registration_method.GetOptimizerStopConditionDescription()))"
   ]
  },
  {
   "cell_type": "code",
   "execution_count": 74,
   "metadata": {},
   "outputs": [
    {
     "name": "stdout",
     "output_type": "stream",
     "text": [
      "Final metric value: 1237.6245114436922\n",
      "Optimizer's stopping condition, GradientDescentOptimizerv4Template: Maximum number of iterations (100) exceeded.\n"
     ]
    }
   ],
   "source": [
    "# Read the images\n",
    "fixed_image = sitk.ReadImage('1.PNG', sitk.sitkFloat32)\n",
    "moving_image = sitk.ReadImage('2.PNG', sitk.sitkFloat32)\n",
    "\n",
    "# Display the original images and resamples moving_image (onto the\n",
    "# fixed_image grid using the identity transformation)\n",
    "sitk.Show(fixed_image, 'fixed')\n",
    "sitk.Show(moving_image, 'moving')\n",
    "#sitk.Show(sitk.Resample(moving_image, fixed_image, sitk.Transform()), 'identity transform')\n",
    "\n",
    "# Centered 2D affine transform and show the resampled moving_image using this transform.\n",
    "registration_transform = sitk.CenteredTransformInitializer(fixed_image, \n",
    "                                                      moving_image, \n",
    "                                                      sitk.AffineTransform(2), \n",
    "                                                      sitk.CenteredTransformInitializerFilter.GEOMETRY)\n",
    "#sitk.Show(sitk.Resample(moving_image, fixed_image, registration_transform), 'initial affine transform')\n",
    "\n",
    "\n",
    "# Register using 2D affine initial transform that is overwritten\n",
    "# and show the resampled moving_image using this transform.\n",
    "multires_registration(fixed_image, moving_image, registration_transform)\n",
    "sitk.Show(sitk.Resample(moving_image, fixed_image, registration_transform), 'final affine transform')\n",
    "registered_image = sitk.Resample(moving_image, fixed_image, registration_transform)"
   ]
  },
  {
   "cell_type": "code",
   "execution_count": 76,
   "metadata": {},
   "outputs": [],
   "source": [
    "# http://insightsoftwareconsortium.github.io/SimpleITK-Notebooks/Python_html/05_Results_Visualization.html\n",
    "zeros = sitk.Image(fixed_image.GetSize(), fixed_image.GetPixelID())\n",
    "zeros.CopyInformation(fixed_image)\n",
    "\n",
    "#sitk.Cast(sitk.Compose(fixed_image, moving_image, zeros), sitk.sitkVectorUInt8)\n",
    "#sitk.Cast(sitk.Compose(fixed_image, moving_image, fixed_image), sitk.sitkVectorUInt8)\n",
    "#sitk.Cast(sitk.Compose(fixed_image, 0.5*fixed_image+0.5*moving_image, moving_image), sitk.sitkVectorUInt8)]\n",
    "\n",
    "sitk.Show(sitk.Cast(sitk.Compose(fixed_image, 0.5*fixed_image+0.5*registered_image, registered_image), sitk.sitkVectorUInt8), \"fixed and moved\")\n",
    "sitk.Show(sitk.Cast(sitk.Compose(fixed_image, 0.5*fixed_image+0.5*moving_image, moving_image), sitk.sitkVectorUInt8), \"fixed and registered\")"
   ]
  },
  {
   "cell_type": "code",
   "execution_count": null,
   "metadata": {},
   "outputs": [],
   "source": []
  }
 ],
 "metadata": {
  "interpreter": {
   "hash": "20b0d1a0be532019c1440fe926150ea591c90996bb235b46f01ca084dec64811"
  },
  "kernelspec": {
   "display_name": "Python 3.8.8 ('base')",
   "language": "python",
   "name": "python3"
  },
  "language_info": {
   "codemirror_mode": {
    "name": "ipython",
    "version": 3
   },
   "file_extension": ".py",
   "mimetype": "text/x-python",
   "name": "python",
   "nbconvert_exporter": "python",
   "pygments_lexer": "ipython3",
   "version": "3.8.8"
  },
  "orig_nbformat": 4
 },
 "nbformat": 4,
 "nbformat_minor": 2
}
