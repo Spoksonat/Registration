{
 "cells": [
  {
   "cell_type": "code",
   "execution_count": 27,
   "metadata": {},
   "outputs": [],
   "source": [
    "import SimpleITK as sitk\n",
    "import numpy as np\n",
    "\n",
    "def multires_registration(fixed_image, moving_image, initial_transform):    \n",
    "    registration_method = sitk.ImageRegistrationMethod()\n",
    "    #registration_method.SetInterpolator(sitk.sitkLinear)\n",
    "    registration_method.SetInterpolator(sitk.sitkBSpline)\n",
    "    #registration_method.SetInterpolator(sitk.sitkNearestNeighbor)\n",
    "    #registration_method.SetMetricAsMattesMutualInformation(numberOfHistogramBins=50)\n",
    "    registration_method.SetMetricAsMeanSquares()\n",
    "    registration_method.SetMetricSamplingStrategy(registration_method.RANDOM)\n",
    "    registration_method.SetMetricSamplingPercentage(0.01)\n",
    "    registration_method.SetOptimizerAsGradientDescent(learningRate=1.0, numberOfIterations=1000, convergenceMinimumValue=1e-4, convergenceWindowSize=55) # Reduce convergeMinimumValue=1e-6\n",
    "    #increase convergenceWindowsize=10. http://insightsoftwareconsortium.github.io/SimpleITK-Notebooks/Python_html/60_Registration_Introduction.html \n",
    "    registration_method.SetOptimizerScalesFromPhysicalShift() \n",
    "    registration_method.SetInitialTransform(initial_transform, inPlace=True)\n",
    "    registration_method.SetShrinkFactorsPerLevel(shrinkFactors = [4,2,1])\n",
    "    registration_method.SetSmoothingSigmasPerLevel(smoothingSigmas = [2,1,0])\n",
    "    registration_method.SmoothingSigmasAreSpecifiedInPhysicalUnitsOn()\n",
    "\n",
    "    registration_method.Execute(fixed_image, moving_image)\n",
    "\n",
    "    print('Final metric value: {0}'.format(registration_method.GetMetricValue()))\n",
    "    print('Optimizer\\'s stopping condition, {0}'.format(registration_method.GetOptimizerStopConditionDescription()))"
   ]
  },
  {
   "cell_type": "code",
   "execution_count": 28,
   "metadata": {},
   "outputs": [],
   "source": [
    "def resample_img(itk_image, is_label=False):\n",
    "\n",
    "    # Resample images to 2mm spacing with SimpleITK\n",
    "    original_spacing = itk_image.GetSpacing()\n",
    "    original_size = itk_image.GetSize()\n",
    "\n",
    "    out_size = [1112,1112]\n",
    "\n",
    "    out_spacing=[original_size[0] * (original_spacing[0] / out_size[0]), original_size[1] * (original_spacing[1] / out_size[1])]\n",
    "\n",
    "    resample = sitk.ResampleImageFilter()\n",
    "    resample.SetOutputSpacing(out_spacing)\n",
    "    resample.SetSize(out_size)\n",
    "    resample.SetOutputDirection(itk_image.GetDirection())\n",
    "    resample.SetOutputOrigin(itk_image.GetOrigin())\n",
    "    resample.SetTransform(sitk.Transform())\n",
    "    resample.SetDefaultPixelValue(itk_image.GetPixelIDValue())\n",
    "\n",
    "    if is_label:\n",
    "        resample.SetInterpolator(sitk.sitkNearestNeighbor)\n",
    "    else:\n",
    "        resample.SetInterpolator(sitk.sitkBSpline)\n",
    "\n",
    "    return resample.Execute(itk_image)"
   ]
  },
  {
   "cell_type": "code",
   "execution_count": 37,
   "metadata": {},
   "outputs": [
    {
     "name": "stdout",
     "output_type": "stream",
     "text": [
      "Final metric value: 411.0577533045255\n",
      "Optimizer's stopping condition, GradientDescentOptimizerv4Template: Convergence checker passed at iteration 85.\n"
     ]
    }
   ],
   "source": [
    "# Read the images\n",
    "fixed_image = sitk.ReadImage('mama_fixed.png', sitk.sitkFloat32)\n",
    "moving_image_or = sitk.ReadImage('mama_moving.png', sitk.sitkFloat32)\n",
    "#fixed_image = sitk.ReadImage('piramide.dcm', sitk.sitkFloat32)[:,:,0]\n",
    "#moving_image_or = sitk.ReadImage('MapaMama.dcm', sitk.sitkFloat32)[:,:,0]\n",
    "moving_image = resample_img(moving_image_or, is_label=False)\n",
    "\n",
    "# Display the original images and resamples moving_image (onto the\n",
    "# fixed_image grid using the identity transformation)\n",
    "sitk.Show(fixed_image, 'fixed')\n",
    "sitk.Show(moving_image, 'moving')\n",
    "#sitk.Show(sitk.Resample(moving_image, fixed_image, sitk.Transform()), 'identity transform')\n",
    "\n",
    "# Centered 2D affine transform and show the resampled moving_image using this transform.\n",
    "registration_transform = sitk.CenteredTransformInitializer(fixed_image, \n",
    "                                                      moving_image, \n",
    "                                                      sitk.AffineTransform(2), \n",
    "                                                      sitk.CenteredTransformInitializerFilter.GEOMETRY)\n",
    "#sitk.Show(sitk.Resample(moving_image, fixed_image, registration_transform), 'initial affine transform')\n",
    "\n",
    "\n",
    "# Register using 2D affine initial transform that is overwritten\n",
    "# and show the resampled moving_image using this transform.\n",
    "multires_registration(fixed_image, moving_image, registration_transform)\n",
    "sitk.Show(sitk.Resample(moving_image, fixed_image, registration_transform), 'final affine transform')\n",
    "registered_image = sitk.Resample(moving_image, fixed_image, registration_transform)"
   ]
  },
  {
   "cell_type": "code",
   "execution_count": 30,
   "metadata": {},
   "outputs": [],
   "source": [
    "import matplotlib.pyplot as plt\n",
    "\n",
    "# http://insightsoftwareconsortium.github.io/SimpleITK-Notebooks/Python_html/05_Results_Visualization.html\n",
    "zeros = sitk.Image(fixed_image.GetSize(), fixed_image.GetPixelID())\n",
    "zeros.CopyInformation(fixed_image)\n",
    "\n",
    "#sitk.Cast(sitk.Compose(fixed_image, moving_image, zeros), sitk.sitkVectorUInt8)\n",
    "#sitk.Cast(sitk.Compose(fixed_image, moving_image, fixed_image), sitk.sitkVectorUInt8)\n",
    "#sitk.Cast(sitk.Compose(fixed_image, 0.5*fixed_image+0.5*moving_image, moving_image), sitk.sitkVectorUInt8)]\n",
    "\n",
    "\n",
    "\n",
    "fixed_matrix, registered_matrix, moving_matrix = sitk.GetArrayFromImage(fixed_image), sitk.GetArrayFromImage(registered_image), sitk.GetArrayFromImage(moving_image_or)\n",
    "max_fixed, min_fixed = int(np.amax(fixed_matrix)), int(np.amin(fixed_matrix))\n",
    "max_moving, min_moving = int(np.amax(moving_matrix)), int(np.amin(moving_matrix))\n",
    "max_registered, min_registered = int(np.amax(registered_matrix)), int(np.amin(registered_matrix))\n",
    "\n",
    "\n",
    "\n",
    "img1_255 = sitk.Cast(sitk.IntensityWindowing(fixed_image, windowMinimum=min_fixed, windowMaximum=max_fixed, outputMinimum=0.0, outputMaximum=255.0), sitk.sitkUInt8)\n",
    "img2_255 = sitk.Cast(sitk.IntensityWindowing(registered_image, windowMinimum=min_registered, windowMaximum=max_registered, outputMinimum=0.0, outputMaximum=255.0), sitk.sitkUInt8)\n",
    "img3_255 = sitk.Cast(sitk.IntensityWindowing(sitk.Resample(moving_image, fixed_image, sitk.Transform()), windowMinimum=min_moving, windowMaximum=max_moving, outputMinimum=0.0, outputMaximum=255.0), sitk.sitkUInt8)\n",
    "\n",
    "sitk.Show(sitk.Cast(sitk.Compose(img1_255, 0.5*img1_255+0.5*img2_255, img2_255), sitk.sitkVectorUInt8), \"fixed and registered\")\n",
    "sitk.Show(sitk.Cast(sitk.Compose(img1_255, 0.5*img1_255+0.5*img3_255, img3_255), sitk.sitkVectorUInt8), \"fixed and moved\")\n",
    "\n",
    "\n",
    "\n",
    "\n",
    "\n",
    "#sitk.Show(sitk.Cast(sitk.Compose(fixed_image, 0.5*fixed_image+0.5*registered_image, registered_image), sitk.sitkVectorUInt8), \"fixed and moved\")\n",
    "#sitk.Show(sitk.Cast(sitk.Compose(fixed_image, 0.5*fixed_image+0.5*moving_image, moving_image), sitk.sitkVectorUInt8), \"fixed and registered\")"
   ]
  },
  {
   "cell_type": "code",
   "execution_count": 36,
   "metadata": {},
   "outputs": [],
   "source": [
    "sitk.Show(sitk.CheckerBoard(img1_255, img2_255, [30,30,4]))"
   ]
  },
  {
   "cell_type": "code",
   "execution_count": null,
   "metadata": {},
   "outputs": [],
   "source": []
  }
 ],
 "metadata": {
  "interpreter": {
   "hash": "20b0d1a0be532019c1440fe926150ea591c90996bb235b46f01ca084dec64811"
  },
  "kernelspec": {
   "display_name": "Python 3.8.8 ('base')",
   "language": "python",
   "name": "python3"
  },
  "language_info": {
   "codemirror_mode": {
    "name": "ipython",
    "version": 3
   },
   "file_extension": ".py",
   "mimetype": "text/x-python",
   "name": "python",
   "nbconvert_exporter": "python",
   "pygments_lexer": "ipython3",
   "version": "3.8.8"
  },
  "orig_nbformat": 4
 },
 "nbformat": 4,
 "nbformat_minor": 2
}
